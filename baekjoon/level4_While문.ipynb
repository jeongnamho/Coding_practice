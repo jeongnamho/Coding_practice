{
 "cells": [
  {
   "cell_type": "markdown",
   "metadata": {},
   "source": [
    "## <font color=red>10952</font>"
   ]
  },
  {
   "cell_type": "code",
   "execution_count": null,
   "metadata": {},
   "outputs": [
    {
     "name": "stdout",
     "output_type": "stream",
     "text": [
      "10 5\n",
      "15\n",
      "3 4\n",
      "7\n",
      "8 9\n",
      "17\n",
      "10 1\n",
      "11\n"
     ]
    }
   ],
   "source": [
    "a = input().split()\n",
    "while a!=[\"0\", \"0\"]:\n",
    "    c,d = map(int,a)\n",
    "    print(c+d)\n",
    "    a=input().split()"
   ]
  },
  {
   "cell_type": "markdown",
   "metadata": {},
   "source": [
    "## <font color=red>10951</font>"
   ]
  },
  {
   "cell_type": "code",
   "execution_count": null,
   "metadata": {},
   "outputs": [],
   "source": [
    "while True:\n",
    "    try:\n",
    "        a, b = map(int, input().split())\n",
    "        print(a+b)\n",
    "    except:\n",
    "        break"
   ]
  },
  {
   "cell_type": "markdown",
   "metadata": {},
   "source": [
    "## <font color=red>1110</font>"
   ]
  },
  {
   "cell_type": "code",
   "execution_count": 15,
   "metadata": {},
   "outputs": [
    {
     "name": "stdout",
     "output_type": "stream",
     "text": [
      "55\n",
      "3\n"
     ]
    }
   ],
   "source": [
    "a=input()\n",
    "i=1\n",
    "if len(a)==1:\n",
    "    a=\"0\"+a\n",
    "\n",
    "[b,c]=map(int, [a[0], a[1]])\n",
    "d = str(b+c)[-1]\n",
    "e = a[-1]+d[-1]\n",
    "\n",
    "while e!=a:\n",
    "    [b,c]=map(int, [e[0], e[1]])\n",
    "    d = str(b+c)[-1]\n",
    "    e = e[-1]+d[-1]\n",
    "    i+=1\n",
    "print(i)"
   ]
  },
  {
   "cell_type": "code",
   "execution_count": null,
   "metadata": {},
   "outputs": [],
   "source": []
  }
 ],
 "metadata": {
  "kernelspec": {
   "display_name": "Python 3",
   "language": "python",
   "name": "python3"
  },
  "language_info": {
   "codemirror_mode": {
    "name": "ipython",
    "version": 3
   },
   "file_extension": ".py",
   "mimetype": "text/x-python",
   "name": "python",
   "nbconvert_exporter": "python",
   "pygments_lexer": "ipython3",
   "version": "3.7.7"
  }
 },
 "nbformat": 4,
 "nbformat_minor": 4
}
