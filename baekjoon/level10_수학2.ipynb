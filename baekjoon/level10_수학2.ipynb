{
 "cells": [
  {
   "cell_type": "markdown",
   "metadata": {},
   "source": [
    "## <font color=red>1978</font>"
   ]
  },
  {
   "cell_type": "code",
   "execution_count": 26,
   "metadata": {
    "ExecuteTime": {
     "end_time": "2020-05-08T03:37:32.516959Z",
     "start_time": "2020-05-08T03:37:31.138381Z"
    }
   },
   "outputs": [
    {
     "name": "stdout",
     "output_type": "stream",
     "text": [
      "9\n",
      "1 2 6 9 10 12 13 17 23\n",
      "4\n"
     ]
    }
   ],
   "source": [
    "import math\n",
    "\n",
    "N = int(input())\n",
    "List=list(map(int, input().split()))\n",
    "num=0\n",
    "for i in List:\n",
    "    if i==1:\n",
    "        num+=1\n",
    "    elif i in [2,3] :\n",
    "        pass\n",
    "    else:\n",
    "        for j in range(2, math.floor(math.sqrt(i))+1):\n",
    "            if i%j==0:\n",
    "                num+=1\n",
    "                break\n",
    "print(N-num)"
   ]
  },
  {
   "cell_type": "markdown",
   "metadata": {},
   "source": [
    "## <font color=red>2581</font>"
   ]
  },
  {
   "cell_type": "code",
   "execution_count": 38,
   "metadata": {
    "ExecuteTime": {
     "end_time": "2020-05-08T04:09:15.234921Z",
     "start_time": "2020-05-08T04:09:13.683352Z"
    }
   },
   "outputs": [
    {
     "name": "stdout",
     "output_type": "stream",
     "text": [
      "1\n",
      "3\n",
      "5\n",
      "2\n"
     ]
    }
   ],
   "source": [
    "import math\n",
    "\n",
    "M = int(input())\n",
    "N = int(input())\n",
    "\n",
    "List=list(range(M,N+1))\n",
    "for i in range(M, N+1):\n",
    "    if i==1:\n",
    "        del List[List.index(1)]\n",
    "    elif i in [2,3] :\n",
    "        pass\n",
    "    else:\n",
    "        for j in range(2, math.floor(math.sqrt(i))+1):\n",
    "            if i%j==0:\n",
    "                del List[List.index(i)]\n",
    "                break\n",
    "\n",
    "if List==[]:\n",
    "    print(-1)\n",
    "else:\n",
    "    print(sum(List))\n",
    "    print(min(List))"
   ]
  },
  {
   "cell_type": "markdown",
   "metadata": {},
   "source": [
    "## <font color=red>1929</font>"
   ]
  },
  {
   "cell_type": "code",
   "execution_count": null,
   "metadata": {},
   "outputs": [],
   "source": [
    "# 시간초과로 실패함\n",
    "import math\n",
    "\n",
    "M,N = map(int, input().split())\n",
    "List=list(range(M,N+1))\n",
    "for i in range(M, N+1):\n",
    "    if i==1:\n",
    "        del List[List.index(1)]\n",
    "    elif i in [2,3] :\n",
    "        pass\n",
    "    else:\n",
    "        for j in range(2, math.floor(math.sqrt(i))+1):\n",
    "            if i%j==0:\n",
    "                del List[List.index(i)]\n",
    "                break\n",
    "\n",
    "for k in List:\n",
    "    print(k)"
   ]
  },
  {
   "cell_type": "code",
   "execution_count": 41,
   "metadata": {
    "ExecuteTime": {
     "end_time": "2020-05-08T04:16:59.259522Z",
     "start_time": "2020-05-08T04:16:59.252502Z"
    }
   },
   "outputs": [
    {
     "ename": "SyntaxError",
     "evalue": "invalid syntax (<ipython-input-41-41224c644789>, line 10)",
     "output_type": "error",
     "traceback": [
      "\u001b[1;36m  File \u001b[1;32m\"<ipython-input-41-41224c644789>\"\u001b[1;36m, line \u001b[1;32m10\u001b[0m\n\u001b[1;33m    elif:\u001b[0m\n\u001b[1;37m        ^\u001b[0m\n\u001b[1;31mSyntaxError\u001b[0m\u001b[1;31m:\u001b[0m invalid syntax\n"
     ]
    }
   ],
   "source": [
    "import math\n",
    "\n",
    "M,N = map(int, input().split())\n",
    "List=list(range(M,N+1))\n",
    "for i in range(M, N+1):\n",
    "    if i==1:\n",
    "        del List[List.index(1)]\n",
    "    elif i in [2,3] :\n",
    "        print(i)\n",
    "    else:\n",
    "        for j in range(2, math.floor(math.sqrt(i))+1):\n",
    "            if i%j==0:\n",
    "#                 del List[List.index(i)]\n",
    "                break\n",
    "    else:\n",
    "        print(i)\n",
    "\n",
    "# for k in List:\n",
    "#     print(k)"
   ]
  }
 ],
 "metadata": {
  "kernelspec": {
   "display_name": "Python 3",
   "language": "python",
   "name": "python3"
  },
  "language_info": {
   "codemirror_mode": {
    "name": "ipython",
    "version": 3
   },
   "file_extension": ".py",
   "mimetype": "text/x-python",
   "name": "python",
   "nbconvert_exporter": "python",
   "pygments_lexer": "ipython3",
   "version": "3.7.7"
  },
  "varInspector": {
   "cols": {
    "lenName": 16,
    "lenType": 16,
    "lenVar": 40
   },
   "kernels_config": {
    "python": {
     "delete_cmd_postfix": "",
     "delete_cmd_prefix": "del ",
     "library": "var_list.py",
     "varRefreshCmd": "print(var_dic_list())"
    },
    "r": {
     "delete_cmd_postfix": ") ",
     "delete_cmd_prefix": "rm(",
     "library": "var_list.r",
     "varRefreshCmd": "cat(var_dic_list()) "
    }
   },
   "types_to_exclude": [
    "module",
    "function",
    "builtin_function_or_method",
    "instance",
    "_Feature"
   ],
   "window_display": false
  }
 },
 "nbformat": 4,
 "nbformat_minor": 4
}
