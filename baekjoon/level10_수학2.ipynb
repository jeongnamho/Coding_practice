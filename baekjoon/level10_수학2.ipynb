{
 "cells": [
  {
   "cell_type": "markdown",
   "metadata": {},
   "source": [
    "## <font color=red>1978</font>"
   ]
  },
  {
   "cell_type": "code",
   "execution_count": 26,
   "metadata": {
    "ExecuteTime": {
     "end_time": "2020-05-08T03:37:32.516959Z",
     "start_time": "2020-05-08T03:37:31.138381Z"
    }
   },
   "outputs": [
    {
     "name": "stdout",
     "output_type": "stream",
     "text": [
      "9\n",
      "1 2 6 9 10 12 13 17 23\n",
      "4\n"
     ]
    }
   ],
   "source": [
    "import math\n",
    "\n",
    "N = int(input())\n",
    "List=list(map(int, input().split()))\n",
    "num=0\n",
    "for i in List:\n",
    "    if i==1:\n",
    "        num+=1\n",
    "    elif i in [2,3] :\n",
    "        pass\n",
    "    else:\n",
    "        for j in range(2, math.floor(math.sqrt(i))+1):\n",
    "            if i%j==0:\n",
    "                num+=1\n",
    "                break\n",
    "print(N-num)"
   ]
  },
  {
   "cell_type": "markdown",
   "metadata": {},
   "source": [
    "## <font color=red>2581</font>"
   ]
  },
  {
   "cell_type": "code",
   "execution_count": 38,
   "metadata": {
    "ExecuteTime": {
     "end_time": "2020-05-08T04:09:15.234921Z",
     "start_time": "2020-05-08T04:09:13.683352Z"
    }
   },
   "outputs": [
    {
     "name": "stdout",
     "output_type": "stream",
     "text": [
      "1\n",
      "3\n",
      "5\n",
      "2\n"
     ]
    }
   ],
   "source": [
    "import math\n",
    "\n",
    "M = int(input())\n",
    "N = int(input())\n",
    "\n",
    "List=list(range(M,N+1))\n",
    "for i in range(M, N+1):\n",
    "    if i==1:\n",
    "        del List[List.index(1)]\n",
    "    elif i in [2,3] :\n",
    "        pass\n",
    "    else:\n",
    "        for j in range(2, math.floor(math.sqrt(i))+1):\n",
    "            if i%j==0:\n",
    "                del List[List.index(i)]\n",
    "                break\n",
    "\n",
    "if List==[]:\n",
    "    print(-1)\n",
    "else:\n",
    "    print(sum(List))\n",
    "    print(min(List))"
   ]
  },
  {
   "cell_type": "markdown",
   "metadata": {},
   "source": [
    "## <font color=red>1929</font>"
   ]
  },
  {
   "cell_type": "code",
   "execution_count": null,
   "metadata": {},
   "outputs": [],
   "source": [
    "# 시간초과로 실패함\n",
    "import math\n",
    "\n",
    "M,N = map(int, input().split())\n",
    "List=list(range(M,N+1))\n",
    "for i in range(M, N+1):\n",
    "    if i==1:\n",
    "        del List[List.index(1)]\n",
    "    elif i in [2,3] :\n",
    "        pass\n",
    "    else:\n",
    "        for j in range(2, math.floor(math.sqrt(i))+1):\n",
    "            if i%j==0:\n",
    "                del List[List.index(i)]\n",
    "                break\n",
    "\n",
    "for k in List:\n",
    "    print(k)"
   ]
  },
  {
   "cell_type": "code",
   "execution_count": null,
   "metadata": {
    "ExecuteTime": {
     "end_time": "2020-09-18T17:20:51.461267Z",
     "start_time": "2020-09-18T17:20:49.029767Z"
    }
   },
   "outputs": [],
   "source": [
    "# 맞긴 한데 시간초과 뜸 ㅠ(이중 for문 때문)\n",
    "import math\n",
    "\n",
    "M,N = map(int, input().split())\n",
    "\n",
    "for i in range(M, N+1):\n",
    "    if i==1:\n",
    "        pass\n",
    "    elif i in [2,3,5,7] :\n",
    "        print(i)\n",
    "    else:\n",
    "        for j in range(2, math.floor(math.sqrt(i))+1):\n",
    "            if i%j==0:\n",
    "                break\n",
    "            elif j!=math.floor(math.sqrt(i)) and i%j!=0:\n",
    "                continue\n",
    "            else:\n",
    "                print(i)"
   ]
  },
  {
   "cell_type": "code",
   "execution_count": null,
   "metadata": {
    "ExecuteTime": {
     "end_time": "2020-09-18T17:21:31.391344Z",
     "start_time": "2020-09-18T17:21:30.458865Z"
    }
   },
   "outputs": [],
   "source": [
    "def isPrime(num):\n",
    "    if num==1:\n",
    "        return False\n",
    "    else:\n",
    "        for i in range(2, int(num**0.5)+1):\n",
    "            if num%i == 0:\n",
    "                return False\n",
    "        return True\n",
    "\n",
    "M, N = map(int, input().split())\n",
    "\n",
    "for i in range(M, N+1):\n",
    "    if isPrime(i):\n",
    "        print(i)"
   ]
  },
  {
   "cell_type": "code",
   "execution_count": null,
   "metadata": {
    "ExecuteTime": {
     "end_time": "2020-09-18T17:22:18.815613Z",
     "start_time": "2020-09-18T17:22:17.895042Z"
    }
   },
   "outputs": [],
   "source": [
    "m, n = map(int, input().split())\n",
    "\n",
    "def isprime(m, n):\n",
    "  prime = [True] * n\n",
    "  for i in range(1, int(n**0.5)+1):\n",
    "    if prime[i]:\n",
    "      for j in range(2*i+1, n, i+1):\n",
    "        prime[j] = False\n",
    "\n",
    "  for i in range(m, n+1):\n",
    "    if i > 1 and prime[i-1] == True:\n",
    "      print(i)\n",
    "\n",
    "isprime(m, n)"
   ]
  },
  {
   "cell_type": "markdown",
   "metadata": {},
   "source": [
    "## <font color=red>4948</font>"
   ]
  },
  {
   "cell_type": "markdown",
   "metadata": {},
   "source": [
    "## <font color=red>9020 : Fail</font>"
   ]
  },
  {
   "cell_type": "code",
   "execution_count": null,
   "metadata": {},
   "outputs": [],
   "source": [
    "N = int(input())\n",
    "List=list(range(2,N+1))\n",
    "for i in range(2, N+1):\n",
    "    if i in [1,4,6,8]:\n",
    "        del List[List.index(i)]\n",
    "    elif i in [2,3,5,7] :\n",
    "        pass\n",
    "    else:\n",
    "        for j in range(2, int(i**0.5+1)):\n",
    "            if i%j==0:\n",
    "                del List[List.index(i)]\n",
    "                break\n",
    "List2=[]\n",
    "for k in List:\n",
    "    if k>N/2:\n",
    "        break\n",
    "    elif N-k in List:\n",
    "        List2.append(k)\n",
    "    else:\n",
    "        pass\n",
    "print(max(List2), N-max(List2))"
   ]
  },
  {
   "cell_type": "markdown",
   "metadata": {},
   "source": [
    "## <font color=red>1085</font>"
   ]
  },
  {
   "cell_type": "code",
   "execution_count": null,
   "metadata": {},
   "outputs": [],
   "source": [
    "x,y,w,h = map(int, input().split())\n",
    "print(min([x,w-x,h-y,y]))"
   ]
  },
  {
   "cell_type": "markdown",
   "metadata": {},
   "source": [
    "## <font color=red>3009</font>"
   ]
  },
  {
   "cell_type": "code",
   "execution_count": null,
   "metadata": {},
   "outputs": [],
   "source": [
    "x_List = []\n",
    "y_List = []\n",
    "for i in range(3):\n",
    "        x, y = map(int, input().split())\n",
    "        x_List.append(x)\n",
    "        y_List.append(y)\n",
    "for i in range(3):\n",
    "        if x_List.count(x_List[i]) == 1:\n",
    "                x = x_List[i]\n",
    "        if y_List.count(y_List[i]) == 1:\n",
    "                y = y_List[i]\n",
    "print(x, y)"
   ]
  },
  {
   "cell_type": "markdown",
   "metadata": {},
   "source": [
    "## <font color=red>4153</font>"
   ]
  },
  {
   "cell_type": "code",
   "execution_count": null,
   "metadata": {},
   "outputs": [],
   "source": [
    "while True:\n",
    "    List = list(map(int, input().split()))\n",
    "    Max=max(List)\n",
    "    Min=min(List)\n",
    "    List.remove(Max)\n",
    "    List.remove(Min)\n",
    "    Med=max(List)\n",
    "    if Max==Min==Med==0:\n",
    "        break\n",
    "    elif Max==Med or Min==Med:\n",
    "        print(\"wrong\")\n",
    "    else:\n",
    "        if Max**2 == Min**2 + (min(List))**2:\n",
    "            print(\"right\")\n",
    "        else:\n",
    "            print(\"wrong\")"
   ]
  },
  {
   "cell_type": "markdown",
   "metadata": {},
   "source": [
    "## <font color=red>3053</font>"
   ]
  },
  {
   "cell_type": "code",
   "execution_count": null,
   "metadata": {},
   "outputs": [],
   "source": [
    "import math\n",
    "R = int(input())\n",
    "print(math.pi*(R**2))\n",
    "print(2*(R**2))"
   ]
  },
  {
   "cell_type": "markdown",
   "metadata": {},
   "source": [
    "## <font color=red>1002</font>"
   ]
  },
  {
   "cell_type": "code",
   "execution_count": null,
   "metadata": {},
   "outputs": [],
   "source": [
    "test_case = int(input())\n",
    "number = 0\n",
    "while number < test_case:\n",
    "    x1,y1,r1,x2,y2,r2 = map(int, input().split())\n",
    "    if (r1+r2)**2 > (x1-x2)**2 + (y1-y2)**2 and (r1-r2)**2 < (x1-x2)**2 + (y1-y2)**2:\n",
    "        print(2)\n",
    "    elif (r1+r2)**2 == (x1-x2)**2 + (y1-y2)**2 or (r1-r2)**2 == (x1-x2)**2 + (y1-y2)**2 :\n",
    "        if x1==x2 and y1 == y2 and r1 == r2:\n",
    "            print(-1)\n",
    "        else:\n",
    "            print(1)\n",
    "    elif (r1+r2)**2 < (x1-x2)**2 + (y1-y2)**2 or (r1-r2)**2 > (x1-x2)**2 + (y1-y2)**2:\n",
    "        print(0)\n",
    "    else:\n",
    "        print(-1)\n",
    "    number += 1"
   ]
  }
 ],
 "metadata": {
  "kernelspec": {
   "display_name": "Python 3",
   "language": "python",
   "name": "python3"
  },
  "language_info": {
   "codemirror_mode": {
    "name": "ipython",
    "version": 3
   },
   "file_extension": ".py",
   "mimetype": "text/x-python",
   "name": "python",
   "nbconvert_exporter": "python",
   "pygments_lexer": "ipython3",
   "version": "3.7.5"
  },
  "varInspector": {
   "cols": {
    "lenName": 16,
    "lenType": 16,
    "lenVar": 40
   },
   "kernels_config": {
    "python": {
     "delete_cmd_postfix": "",
     "delete_cmd_prefix": "del ",
     "library": "var_list.py",
     "varRefreshCmd": "print(var_dic_list())"
    },
    "r": {
     "delete_cmd_postfix": ") ",
     "delete_cmd_prefix": "rm(",
     "library": "var_list.r",
     "varRefreshCmd": "cat(var_dic_list()) "
    }
   },
   "types_to_exclude": [
    "module",
    "function",
    "builtin_function_or_method",
    "instance",
    "_Feature"
   ],
   "window_display": false
  }
 },
 "nbformat": 4,
 "nbformat_minor": 4
}
