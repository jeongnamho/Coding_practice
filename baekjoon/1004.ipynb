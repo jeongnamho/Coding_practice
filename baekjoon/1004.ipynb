{
 "cells": [
  {
   "cell_type": "markdown",
   "metadata": {},
   "source": [
    "### 방법1"
   ]
  },
  {
   "cell_type": "code",
   "execution_count": 7,
   "metadata": {
    "ExecuteTime": {
     "end_time": "2020-04-11T15:40:18.352774Z",
     "start_time": "2020-04-11T15:39:31.767598Z"
    },
    "scrolled": false
   },
   "outputs": [
    {
     "name": "stdout",
     "output_type": "stream",
     "text": [
      "the number of cases : 2\n",
      "the location of test_case : -5 1 12 1\n",
      "the number of planets : 7\n",
      "1 1 8\n",
      "-3 -1 1\n",
      "2 2 2\n",
      "5 5 1\n",
      "-4 5 1\n",
      "12 1 1\n",
      "12 1 2\n",
      "3\n",
      "the location of test_case : -5 1 5 1\n",
      "the number of planets : 1\n",
      "0 0 2\n",
      "0\n"
     ]
    }
   ],
   "source": [
    "test_case = int(input(\"the number of cases : \"))\n",
    "case = 0\n",
    "while case < test_case:\n",
    "    x1,y1,x2,y2 = map(int, input(\"the location of test_case : \").split())\n",
    "    planets_number = int(input(\"the number of planets : \"))\n",
    "    enter_exit = 0\n",
    "    while number < planets_number:\n",
    "        cx,cy,r = map(int, input().split())\n",
    "        if ((x1-cx)**2 + (y1-cy)**2 < r**2 and (x2-cx)**2 + (y2-cy)**2 > r**2) or ((x1-cx)**2 + (y1-cy)**2 > r**2 and (x2-cx)**2 + (y2-cy)**2 < r**2):\n",
    "            enter_exit += 1\n",
    "            number += 1\n",
    "        else:\n",
    "            number += 1\n",
    "#             continue\n",
    "#         number += 1\n",
    "    print(enter_exit)\n",
    "    case += 1"
   ]
  },
  {
   "cell_type": "markdown",
   "metadata": {},
   "source": [
    "### 방법2 (이 방법이 시간 더 단축되고 코드길이도 짧아짐)"
   ]
  },
  {
   "cell_type": "code",
   "execution_count": 9,
   "metadata": {
    "ExecuteTime": {
     "end_time": "2020-04-11T15:52:13.347799Z",
     "start_time": "2020-04-11T15:51:38.790200Z"
    }
   },
   "outputs": [
    {
     "name": "stdout",
     "output_type": "stream",
     "text": [
      "the number of cases : 2\n",
      "the location of test_case : -5 1 12 1\n",
      "the number of planets : 7\n",
      "1 1 8\n",
      "-3 -1 1\n",
      "2 2 2\n",
      "5 5 1\n",
      "-4 5 1\n",
      "12 1 1\n",
      "12 1 2\n",
      "3\n",
      "the location of test_case : -5 1 5 1\n",
      "the number of planets : 1\n",
      "0 0 2\n",
      "0\n"
     ]
    }
   ],
   "source": [
    "test_case = int(input(\"the number of cases : \"))\n",
    "case = 0\n",
    "while case < test_case:\n",
    "    x1,y1,x2,y2 = map(int, input(\"the location of test_case : \").split())\n",
    "    planets_number = int(input(\"the number of planets : \"))\n",
    "    enter_exit = 0\n",
    "    for i in range(planets_number):\n",
    "        cx,cy,r = map(int, input().split())\n",
    "        if ((x1-cx)**2 + (y1-cy)**2 < r**2 and (x2-cx)**2 + (y2-cy)**2 > r**2) or ((x1-cx)**2 + (y1-cy)**2 > r**2 and (x2-cx)**2 + (y2-cy)**2 < r**2):\n",
    "            enter_exit += 1\n",
    "    print(enter_exit)\n",
    "    case += 1"
   ]
  },
  {
   "cell_type": "code",
   "execution_count": null,
   "metadata": {},
   "outputs": [],
   "source": []
  }
 ],
 "metadata": {
  "kernelspec": {
   "display_name": "Python 3",
   "language": "python",
   "name": "python3"
  },
  "language_info": {
   "codemirror_mode": {
    "name": "ipython",
    "version": 3
   },
   "file_extension": ".py",
   "mimetype": "text/x-python",
   "name": "python",
   "nbconvert_exporter": "python",
   "pygments_lexer": "ipython3",
   "version": "3.6.10"
  },
  "varInspector": {
   "cols": {
    "lenName": 16,
    "lenType": 16,
    "lenVar": 40
   },
   "kernels_config": {
    "python": {
     "delete_cmd_postfix": "",
     "delete_cmd_prefix": "del ",
     "library": "var_list.py",
     "varRefreshCmd": "print(var_dic_list())"
    },
    "r": {
     "delete_cmd_postfix": ") ",
     "delete_cmd_prefix": "rm(",
     "library": "var_list.r",
     "varRefreshCmd": "cat(var_dic_list()) "
    }
   },
   "types_to_exclude": [
    "module",
    "function",
    "builtin_function_or_method",
    "instance",
    "_Feature"
   ],
   "window_display": false
  }
 },
 "nbformat": 4,
 "nbformat_minor": 2
}
