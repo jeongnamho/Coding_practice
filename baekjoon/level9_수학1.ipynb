{
 "cells": [
  {
   "cell_type": "markdown",
   "metadata": {},
   "source": [
    "## <font color=red>1712</font>"
   ]
  },
  {
   "cell_type": "code",
   "execution_count": 6,
   "metadata": {
    "ExecuteTime": {
     "end_time": "2020-05-05T06:15:17.539301Z",
     "start_time": "2020-05-05T06:15:14.067582Z"
    },
    "scrolled": true
   },
   "outputs": [
    {
     "name": "stdout",
     "output_type": "stream",
     "text": [
      "1000 70 170\n",
      "11\n"
     ]
    }
   ],
   "source": [
    "import math\n",
    "A,B,C = map(int, input().split())\n",
    "if B>=C:\n",
    "    print(-1)\n",
    "else:\n",
    "    print(math.floor(A/(C-B))+1)"
   ]
  },
  {
   "cell_type": "code",
   "execution_count": 10,
   "metadata": {
    "ExecuteTime": {
     "end_time": "2020-05-05T06:21:48.679467Z",
     "start_time": "2020-05-05T06:21:46.328736Z"
    },
    "scrolled": true
   },
   "outputs": [
    {
     "name": "stdout",
     "output_type": "stream",
     "text": [
      "1000 70 170\n",
      "11\n"
     ]
    }
   ],
   "source": [
    "A,B,C = map(int, input().split())\n",
    "if B>=C:\n",
    "    print(-1)\n",
    "else:\n",
    "    print(int(A/(C-B))+1)"
   ]
  },
  {
   "cell_type": "markdown",
   "metadata": {},
   "source": [
    "## <font color=red>2839</font>"
   ]
  },
  {
   "cell_type": "code",
   "execution_count": null,
   "metadata": {
    "ExecuteTime": {
     "end_time": "2020-05-05T06:39:49.900094Z",
     "start_time": "2020-05-05T06:39:48.536740Z"
    }
   },
   "outputs": [],
   "source": [
    "N=int(input())\n",
    "List=[]\n",
    "for i in range((N//5)+1):\n",
    "    if (N-i*5)%3 == 0:\n",
    "        List.append(int(i+(N-i*5)/3))\n",
    "if len(List)!=0:\n",
    "    print(min(List))\n",
    "else:\n",
    "    print(-1)"
   ]
  },
  {
   "cell_type": "markdown",
   "metadata": {},
   "source": [
    "## <font color=red>2292</font>"
   ]
  },
  {
   "cell_type": "markdown",
   "metadata": {},
   "source": [
    "각 군의 첫번째 항들은 `1, 2, 8, 20, 38, ...` 으로 이루어져 있다.\n",
    "이를 수열로 표현하면  \n",
    "a1=1,  \n",
    "an=3(n-2)(n-1)+2 if n>1  \n",
    "이다.\n",
    "따라서 주어진 N이 속한 군을 찾아야한다."
   ]
  },
  {
   "cell_type": "code",
   "execution_count": 64,
   "metadata": {
    "ExecuteTime": {
     "end_time": "2020-05-05T07:36:56.978856Z",
     "start_time": "2020-05-05T07:36:56.956882Z"
    }
   },
   "outputs": [
    {
     "name": "stdout",
     "output_type": "stream",
     "text": [
      "총 18258번째 군까지 있음\n"
     ]
    }
   ],
   "source": [
    "# N은 최대 1000000000이므로 다음 연산을 통해 18258행까지 있음을 알 수 있음\n",
    "for i in range(1000000000000000):\n",
    "    if i**2-3*i+2>int((1000000000-2)/3):\n",
    "        print(f\"총 {i-1}번째 군까지 있음\")\n",
    "        break"
   ]
  },
  {
   "cell_type": "code",
   "execution_count": 91,
   "metadata": {
    "ExecuteTime": {
     "end_time": "2020-05-05T07:47:05.041589Z",
     "start_time": "2020-05-05T07:47:05.036603Z"
    }
   },
   "outputs": [
    {
     "name": "stdout",
     "output_type": "stream",
     "text": [
      "4\n"
     ]
    }
   ],
   "source": [
    "N= int(input())\n",
    "if N == 1:\n",
    "    print(1)\n",
    "else:\n",
    "    for i in  range(2,18259):\n",
    "        if (N>=3*(i-2)*(i-1)+2) & (N<3*(i-1)*i+2):\n",
    "            print(i)\n",
    "            break"
   ]
  },
  {
   "cell_type": "markdown",
   "metadata": {},
   "source": [
    "## <font color=red>1193</font>"
   ]
  },
  {
   "cell_type": "code",
   "execution_count": 121,
   "metadata": {
    "ExecuteTime": {
     "end_time": "2020-05-05T08:07:19.833002Z",
     "start_time": "2020-05-05T08:07:19.827016Z"
    }
   },
   "outputs": [
    {
     "name": "stdout",
     "output_type": "stream",
     "text": [
      "4472번째 군까지 있음\n"
     ]
    }
   ],
   "source": [
    "X=10000000\n",
    "for i in range(100000000):\n",
    "    if X<=i*(i+1)/2:\n",
    "        print(f\"{i}번째 군까지 있음\")\n",
    "        break"
   ]
  },
  {
   "cell_type": "code",
   "execution_count": 120,
   "metadata": {
    "ExecuteTime": {
     "end_time": "2020-05-05T08:06:08.333640Z",
     "start_time": "2020-05-05T08:05:58.642554Z"
    }
   },
   "outputs": [
    {
     "name": "stdout",
     "output_type": "stream",
     "text": [
      "10000000\n",
      "2844/1629\n"
     ]
    }
   ],
   "source": [
    "X=int(input())\n",
    "for i in range(1,4473):\n",
    "    if (X<=i*(i+1)/2)&(X>(i-1)*i/2):\n",
    "        break\n",
    "if i%2==1:\n",
    "    print(str(int(i-(X-(i-1)*i/2-1)))+\"/\"+str(int(X-(i-1)*i/2)))\n",
    "else:\n",
    "    print(str(int(X-(i-1)*i/2))+\"/\"+str(int(i-(X-(i-1)*i/2-1))))"
   ]
  },
  {
   "cell_type": "markdown",
   "metadata": {},
   "source": [
    "## <font color=red>2869</font>"
   ]
  },
  {
   "cell_type": "code",
   "execution_count": 5,
   "metadata": {
    "ExecuteTime": {
     "end_time": "2020-05-05T15:16:23.706087Z",
     "start_time": "2020-05-05T15:16:20.521635Z"
    }
   },
   "outputs": [
    {
     "name": "stdout",
     "output_type": "stream",
     "text": [
      "5 3 15\n",
      "6\n"
     ]
    }
   ],
   "source": [
    "import math\n",
    "A,B,V = map(int, input().split())\n",
    "print(math.ceil((V-A)/(A-B))+1)"
   ]
  },
  {
   "cell_type": "markdown",
   "metadata": {},
   "source": [
    "## <font color=red>10250</font>"
   ]
  },
  {
   "cell_type": "code",
   "execution_count": 18,
   "metadata": {},
   "outputs": [
    {
     "name": "stdout",
     "output_type": "stream",
     "text": [
      "2\n",
      "6 12 12\n",
      "1202\n",
      "6 12 10\n",
      "402\n"
     ]
    }
   ],
   "source": [
    "import math\n",
    "\n",
    "T=int(input())\n",
    "for i in range(T):\n",
    "    H,W,N= map(int, input().split())\n",
    "    A=str(math.ceil(N/H))\n",
    "    B=str(N%H)\n",
    "    if B==\"0\":\n",
    "        B=str(H)\n",
    "    if len(A)==2:\n",
    "        print(int(B+A))\n",
    "    else:\n",
    "        print(int(B+\"0\"+A))"
   ]
  },
  {
   "cell_type": "markdown",
   "metadata": {},
   "source": [
    "## <font color=red>2775</font>"
   ]
  },
  {
   "cell_type": "code",
   "execution_count": null,
   "metadata": {},
   "outputs": [],
   "source": [
    "for _ in len(int(input())):\n",
    "    k=int(input())\n",
    "    n=int(input())\n",
    "    List=list(range(1,n+1))\n",
    "    \n",
    "    for i in range(1,k+1):\n",
    "        List[i]+= List[i]"
   ]
  },
  {
   "cell_type": "code",
   "execution_count": null,
   "metadata": {},
   "outputs": [],
   "source": []
  },
  {
   "cell_type": "code",
   "execution_count": null,
   "metadata": {},
   "outputs": [],
   "source": []
  },
  {
   "cell_type": "code",
   "execution_count": null,
   "metadata": {},
   "outputs": [],
   "source": []
  }
 ],
 "metadata": {
  "kernelspec": {
   "display_name": "Python 3",
   "language": "python",
   "name": "python3"
  },
  "language_info": {
   "codemirror_mode": {
    "name": "ipython",
    "version": 3
   },
   "file_extension": ".py",
   "mimetype": "text/x-python",
   "name": "python",
   "nbconvert_exporter": "python",
   "pygments_lexer": "ipython3",
   "version": "3.7.7"
  },
  "varInspector": {
   "cols": {
    "lenName": 16,
    "lenType": 16,
    "lenVar": 40
   },
   "kernels_config": {
    "python": {
     "delete_cmd_postfix": "",
     "delete_cmd_prefix": "del ",
     "library": "var_list.py",
     "varRefreshCmd": "print(var_dic_list())"
    },
    "r": {
     "delete_cmd_postfix": ") ",
     "delete_cmd_prefix": "rm(",
     "library": "var_list.r",
     "varRefreshCmd": "cat(var_dic_list()) "
    }
   },
   "types_to_exclude": [
    "module",
    "function",
    "builtin_function_or_method",
    "instance",
    "_Feature"
   ],
   "window_display": false
  }
 },
 "nbformat": 4,
 "nbformat_minor": 2
}
