{
 "cells": [
  {
   "cell_type": "markdown",
   "metadata": {},
   "source": [
    "## <font color=red>2798</font>"
   ]
  },
  {
   "cell_type": "code",
   "execution_count": 19,
   "metadata": {
    "ExecuteTime": {
     "end_time": "2020-05-15T13:58:21.386649Z",
     "start_time": "2020-05-15T13:58:16.852813Z"
    }
   },
   "outputs": [
    {
     "name": "stdout",
     "output_type": "stream",
     "text": [
      "10 500\n",
      "93 181 245 214 315 36 185 138 216 295\n",
      "497\n"
     ]
    }
   ],
   "source": [
    "N,M=map(int, input().split())\n",
    "List = list(map(int, input().split()))\n",
    "SUM=0\n",
    "for i in range(N-2):\n",
    "    for j in range(i+1, N-1):\n",
    "        for k in range(j+1, N):\n",
    "            if List[i]+List[j]+List[k]<=M:\n",
    "                SUM=max(SUM, List[i]+List[j]+List[k])\n",
    "print(SUM)"
   ]
  },
  {
   "cell_type": "code",
   "execution_count": 61,
   "metadata": {
    "ExecuteTime": {
     "end_time": "2020-05-15T14:32:53.887137Z",
     "start_time": "2020-05-15T14:32:47.274799Z"
    }
   },
   "outputs": [
    {
     "name": "stdout",
     "output_type": "stream",
     "text": [
      "5 21\n",
      "5 6 7 8 9\n",
      "21\n"
     ]
    }
   ],
   "source": [
    "# wow....combination을 한 번 더 반복하면 empty...\n",
    "from itertools import combinations\n",
    "\n",
    "[N,M],List=eval('map(int,input().split()),'*2)\n",
    "candidates = list(map(sum,combinations(List,3)))\n",
    "print(max(v for v in candidates if v<=M))"
   ]
  },
  {
   "cell_type": "markdown",
   "metadata": {},
   "source": [
    "## <font color=red>2231</font>"
   ]
  },
  {
   "cell_type": "code",
   "execution_count": 1,
   "metadata": {
    "ExecuteTime": {
     "end_time": "2020-05-17T14:45:44.997633Z",
     "start_time": "2020-05-17T14:45:44.992647Z"
    }
   },
   "outputs": [
    {
     "name": "stdout",
     "output_type": "stream",
     "text": [
      "3\n"
     ]
    }
   ],
   "source": [
    "# N=int(input())\n",
    "N = 216\n",
    "length=len(str(N))\n",
    "# print(length)\n",
    "\n",
    "for a in range(10):\n",
    "    for b in range(10):"
   ]
  },
  {
   "cell_type": "code",
   "execution_count": 2,
   "metadata": {
    "ExecuteTime": {
     "end_time": "2020-05-17T14:56:29.304034Z",
     "start_time": "2020-05-17T14:56:27.774165Z"
    }
   },
   "outputs": [
    {
     "name": "stdout",
     "output_type": "stream",
     "text": [
      "245\n",
      "235\n"
     ]
    }
   ],
   "source": [
    "N = int(input())\n",
    "\n",
    "for i in range(N + 1):\n",
    "    i_s = str(i)\n",
    "    total = i\n",
    "    for j in i_s:\n",
    "        total += int(j)\n",
    "    if total == N:\n",
    "        break\n",
    "print(i if i != N else 0)"
   ]
  },
  {
   "cell_type": "markdown",
   "metadata": {
    "ExecuteTime": {
     "end_time": "2020-05-15T14:18:41.361879Z",
     "start_time": "2020-05-15T14:18:41.356893Z"
    }
   },
   "source": [
    "## <font color=red>7568</font>"
   ]
  },
  {
   "cell_type": "code",
   "execution_count": 2,
   "metadata": {
    "ExecuteTime": {
     "end_time": "2020-05-23T04:01:08.160345Z",
     "start_time": "2020-05-23T04:00:49.788519Z"
    }
   },
   "outputs": [
    {
     "name": "stdout",
     "output_type": "stream",
     "text": [
      "5\n",
      "55 185\n",
      "58 183\n",
      "88 186\n",
      "60 175\n",
      "46 155\n",
      "[[55, 185], [58, 183], [88, 186], [60, 175], [46, 155]]\n"
     ]
    }
   ],
   "source": [
    "N = int(input())\n",
    "List=[]\n",
    "for i in range(N):\n",
    "    List.append(list(map(int, input().split())))\n",
    "print(List)"
   ]
  }
 ],
 "metadata": {
  "kernelspec": {
   "display_name": "Python 3",
   "language": "python",
   "name": "python3"
  },
  "language_info": {
   "codemirror_mode": {
    "name": "ipython",
    "version": 3
   },
   "file_extension": ".py",
   "mimetype": "text/x-python",
   "name": "python",
   "nbconvert_exporter": "python",
   "pygments_lexer": "ipython3",
   "version": "3.7.5"
  },
  "varInspector": {
   "cols": {
    "lenName": 16,
    "lenType": 16,
    "lenVar": 40
   },
   "kernels_config": {
    "python": {
     "delete_cmd_postfix": "",
     "delete_cmd_prefix": "del ",
     "library": "var_list.py",
     "varRefreshCmd": "print(var_dic_list())"
    },
    "r": {
     "delete_cmd_postfix": ") ",
     "delete_cmd_prefix": "rm(",
     "library": "var_list.r",
     "varRefreshCmd": "cat(var_dic_list()) "
    }
   },
   "types_to_exclude": [
    "module",
    "function",
    "builtin_function_or_method",
    "instance",
    "_Feature"
   ],
   "window_display": false
  }
 },
 "nbformat": 4,
 "nbformat_minor": 2
}
