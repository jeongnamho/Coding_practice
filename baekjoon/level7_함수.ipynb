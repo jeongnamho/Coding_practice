{
 "cells": [
  {
   "cell_type": "markdown",
   "metadata": {},
   "source": [
    "## <font color=red>15596</font>"
   ]
  },
  {
   "cell_type": "code",
   "execution_count": null,
   "metadata": {},
   "outputs": [],
   "source": [
    "solve=sum"
   ]
  },
  {
   "cell_type": "code",
   "execution_count": null,
   "metadata": {
    "ExecuteTime": {
     "end_time": "2020-05-01T10:50:22.682019Z",
     "start_time": "2020-05-01T10:50:22.676037Z"
    }
   },
   "outputs": [],
   "source": [
    "def solve(a):\n",
    "    result = 0\n",
    "    for A in a:\n",
    "        result += A\n",
    "    return result"
   ]
  },
  {
   "cell_type": "markdown",
   "metadata": {},
   "source": [
    "## <font color=red>4673</font>"
   ]
  },
  {
   "cell_type": "code",
   "execution_count": null,
   "metadata": {
    "ExecuteTime": {
     "end_time": "2020-05-01T11:22:20.496942Z",
     "start_time": "2020-05-01T11:22:20.404156Z"
    }
   },
   "outputs": [],
   "source": [
    "Range=range(10)\n",
    "List=set([1001*a+101*b+11*c+2*d for a in Range for b in Range for c in Range for d in Range])\n",
    "for i in range(10001):\n",
    "    if i not in List:\n",
    "        print(i)"
   ]
  },
  {
   "cell_type": "code",
   "execution_count": null,
   "metadata": {},
   "outputs": [],
   "source": []
  },
  {
   "cell_type": "markdown",
   "metadata": {},
   "source": [
    "## <font color=red>1065</font>\n",
    "어떤 양의 정수 X의 각 자리가 등차수열을 이룬다면, 그 수를 한수라고 한다. 등차수열은 연속된 두 개의 수의 차이가 일정한 수열을 말한다. N이 주어졌을 때, 1보다 크거나 같고, N보다 작거나 같은 한수의 개수를 출력하는 프로그램을 작성하시오. "
   ]
  },
  {
   "cell_type": "code",
   "execution_count": 31,
   "metadata": {
    "ExecuteTime": {
     "end_time": "2020-05-01T15:52:27.960358Z",
     "start_time": "2020-05-01T15:52:26.968042Z"
    }
   },
   "outputs": [
    {
     "name": "stdout",
     "output_type": "stream",
     "text": [
      "210\n",
      "105\n"
     ]
    }
   ],
   "source": [
    "N=int(input())\n",
    "LIST=[i for i in range(1,100)]\n",
    "for i in range(10):\n",
    "    LIST.append(100*i+10*i+i)\n",
    "    for j in range(1,10):\n",
    "        if i+2*j<10:\n",
    "            LIST.append(100*i+10*(i+j)+(i+2*j))\n",
    "        if i-2*j>=0:\n",
    "            LIST.append(100*i+10*(i-j)+(i-2*j))\n",
    "score=0\n",
    "for i in range(1,N+1):\n",
    "    if i in LIST:\n",
    "        score+=1\n",
    "print(score)"
   ]
  },
  {
   "cell_type": "code",
   "execution_count": 30,
   "metadata": {
    "ExecuteTime": {
     "end_time": "2020-05-01T15:51:07.991267Z",
     "start_time": "2020-05-01T15:51:03.663837Z"
    },
    "scrolled": true
   },
   "outputs": [
    {
     "name": "stdout",
     "output_type": "stream",
     "text": [
      "1000\n",
      "144\n"
     ]
    }
   ],
   "source": [
    "N=int(input())\n",
    "LIST=[i for i in range(1,100)] + [100*i+10*i+i for i in range(10)] + [100*i+10*(i+j)+(i+2*j) for i in range(10) for j in range(1,10) if i+2*j<10] + [100*i+10*(i-j)+(i-2*j) for i in range(10) for j in range(1,10) if i-2*j>=0]\n",
    "score=0\n",
    "for i in range(1,N+1):\n",
    "    if i in LIST:\n",
    "        score+=1\n",
    "print(score)"
   ]
  },
  {
   "cell_type": "code",
   "execution_count": 6,
   "metadata": {},
   "outputs": [
    {
     "name": "stdout",
     "output_type": "stream",
     "text": [
      "110\n",
      "99\n"
     ]
    }
   ],
   "source": [
    "print(sum(i//100+i%10==i//10%10*2 or i<100 for i in range(1,int(input())+1)))"
   ]
  },
  {
   "cell_type": "markdown",
   "metadata": {
    "ExecuteTime": {
     "end_time": "2020-05-01T15:59:28.974623Z",
     "start_time": "2020-05-01T15:59:28.968642Z"
    }
   },
   "source": [
    "## <font color=red>1065</font> 변형문제\n",
    "위의 문제를 약간 바꾸어보자\n",
    "양의 정수 X의 각 자리수들을 적절하게 재배열하여 등차수열을 이룰 수 있다면 X를 `두수`라고 하자.  \n",
    "자연수 N이 주어졌을 때, 1보다 크거나 같고 N보다 작거나 같은 `두수`의 개수를 출력하는 프로그램을 작성하시오. \n",
    " \n",
    "예를 들면,\n",
    "- 110을 입력했을 때 100이 출력되고\n",
    "- 210을 입력했을 때 113이 출력되고 \n",
    "- 1000을 입력했을 때 220이 출력된다."
   ]
  },
  {
   "cell_type": "code",
   "execution_count": 3,
   "metadata": {
    "ExecuteTime": {
     "end_time": "2020-05-01T12:42:50.797368Z",
     "start_time": "2020-05-01T12:42:50.793372Z"
    }
   },
   "outputs": [
    {
     "name": "stdout",
     "output_type": "stream",
     "text": [
      "['ABC', 'ACB', 'BAC', 'BCA', 'CAB', 'CBA']\n"
     ]
    }
   ],
   "source": [
    "# itertools 모듈의 permutations 메서드를 이용해서 풀면 편하다.\n",
    "import itertools\n",
    "\n",
    "pool = ['A', 'B', 'C']\n",
    "print(list(map(''.join, itertools.permutations(pool)))) # 3개의 원소로 수열 만들기"
   ]
  },
  {
   "cell_type": "code",
   "execution_count": 38,
   "metadata": {
    "ExecuteTime": {
     "end_time": "2020-05-01T16:09:34.243302Z",
     "start_time": "2020-05-01T16:09:32.508914Z"
    }
   },
   "outputs": [
    {
     "name": "stdout",
     "output_type": "stream",
     "text": [
      "1000\n",
      "220\n"
     ]
    }
   ],
   "source": [
    "import itertools\n",
    "\n",
    "N=int(input())\n",
    "LIST=[]\n",
    "for i in range(10):\n",
    "    LIST.append([f\"{i}\",f\"{i}\",f\"{i}\"])\n",
    "    LIST.append([f\"{i}\",f\"{i}\"])\n",
    "    LIST.append([f\"{i}\"])\n",
    "    for j in range(1,10):\n",
    "        if i+2*j<10:\n",
    "            LIST.append([f\"{i}\",f\"{i+j}\",f\"{i+2*j}\"])\n",
    "        if i+j<10:\n",
    "            LIST.append([f\"{i}\", f\"{i+j}\"])\n",
    "\n",
    "X=set()\n",
    "for List in LIST:\n",
    "    X.update( list(set(map(''.join, itertools.permutations(List))))  )\n",
    "X = set(map(int,X))\n",
    "X = list(X)\n",
    "score=0\n",
    "for i in range(1,N+1):\n",
    "    if i in X:\n",
    "        score+=1\n",
    "print(score)"
   ]
  }
 ],
 "metadata": {
  "kernelspec": {
   "display_name": "Python 3",
   "language": "python",
   "name": "python3"
  },
  "language_info": {
   "codemirror_mode": {
    "name": "ipython",
    "version": 3
   },
   "file_extension": ".py",
   "mimetype": "text/x-python",
   "name": "python",
   "nbconvert_exporter": "python",
   "pygments_lexer": "ipython3",
   "version": "3.7.7"
  },
  "varInspector": {
   "cols": {
    "lenName": 16,
    "lenType": 16,
    "lenVar": 40
   },
   "kernels_config": {
    "python": {
     "delete_cmd_postfix": "",
     "delete_cmd_prefix": "del ",
     "library": "var_list.py",
     "varRefreshCmd": "print(var_dic_list())"
    },
    "r": {
     "delete_cmd_postfix": ") ",
     "delete_cmd_prefix": "rm(",
     "library": "var_list.r",
     "varRefreshCmd": "cat(var_dic_list()) "
    }
   },
   "types_to_exclude": [
    "module",
    "function",
    "builtin_function_or_method",
    "instance",
    "_Feature"
   ],
   "window_display": false
  }
 },
 "nbformat": 4,
 "nbformat_minor": 2
}
