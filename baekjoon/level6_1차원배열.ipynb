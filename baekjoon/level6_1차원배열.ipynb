{
 "cells": [
  {
   "cell_type": "markdown",
   "metadata": {},
   "source": [
    "## <font color=red>10818</font>"
   ]
  },
  {
   "cell_type": "code",
   "execution_count": 2,
   "metadata": {},
   "outputs": [
    {
     "name": "stdout",
     "output_type": "stream",
     "text": [
      "5\n",
      "20 10 35 30 7\n",
      "7 35\n"
     ]
    }
   ],
   "source": [
    "n=int(input())\n",
    "List = list(map(int, input().split()))\n",
    "print(min(List),max(List))"
   ]
  },
  {
   "cell_type": "markdown",
   "metadata": {},
   "source": [
    "## <font color=red>2562</font>"
   ]
  },
  {
   "cell_type": "code",
   "execution_count": 3,
   "metadata": {},
   "outputs": [
    {
     "name": "stdout",
     "output_type": "stream",
     "text": [
      "3\n",
      "29\n",
      "38\n",
      "12\n",
      "57\n",
      "74\n",
      "40\n",
      "85\n",
      "61\n",
      "85\n",
      "8\n"
     ]
    }
   ],
   "source": [
    "List=[]\n",
    "for i in range(9):\n",
    "    List.append(int(input()))\n",
    "MAX=max(List)\n",
    "print(MAX)\n",
    "print(List.index(MAX)+1)"
   ]
  },
  {
   "cell_type": "markdown",
   "metadata": {},
   "source": [
    "## <font color=red>2577</font>"
   ]
  },
  {
   "cell_type": "code",
   "execution_count": null,
   "metadata": {},
   "outputs": [],
   "source": [
    "product=1\n",
    "for i in range(3):\n",
    "    product*=int(input())\n",
    "product = str(product)\n",
    "for i in range(10):\n",
    "    print(product.count(f\"{i}\"))"
   ]
  },
  {
   "cell_type": "markdown",
   "metadata": {},
   "source": [
    "## <font color=red>3052</font>"
   ]
  },
  {
   "cell_type": "code",
   "execution_count": null,
   "metadata": {},
   "outputs": [],
   "source": [
    "y = set()\n",
    "for i in range(10):\n",
    "    y.add(int(input())%42)\n",
    "print(len(list(y)))"
   ]
  },
  {
   "cell_type": "code",
   "execution_count": null,
   "metadata": {},
   "outputs": [],
   "source": [
    "print(len(set([int(input())%42 for i in range(10)])))"
   ]
  },
  {
   "cell_type": "markdown",
   "metadata": {},
   "source": [
    "## <font color=red>1546</font>"
   ]
  },
  {
   "cell_type": "code",
   "execution_count": null,
   "metadata": {},
   "outputs": [],
   "source": [
    "n=int(input())\n",
    "List=list(map(int, input().split()))\n",
    "MAX=max(List)\n",
    "for i in range(n):\n",
    "    List[i]=List[i]*100/MAX\n",
    "print(sum(List)/n)"
   ]
  },
  {
   "cell_type": "markdown",
   "metadata": {},
   "source": [
    "## <font color=red>8958</font>"
   ]
  },
  {
   "cell_type": "code",
   "execution_count": null,
   "metadata": {},
   "outputs": [],
   "source": [
    "n=int(input())\n",
    "for i in range(n):\n",
    "    A=input()\n",
    "    score=0\n",
    "    List=[]\n",
    "    for j in range(len(A)):\n",
    "        if A[j]==\"O\":\n",
    "            score+=1\n",
    "            List.append(score)\n",
    "        else:\n",
    "            score=0\n",
    "    print(sum(List))"
   ]
  },
  {
   "cell_type": "code",
   "execution_count": null,
   "metadata": {},
   "outputs": [],
   "source": [
    "n=int(input())\n",
    "LIST=[]\n",
    "for i in range(n):\n",
    "    A=input()\n",
    "    score=0\n",
    "    List=[]\n",
    "    for j in range(len(A)):\n",
    "        if A[j]==\"O\":\n",
    "            score+=1\n",
    "            List.append(score)\n",
    "        else:\n",
    "            score=0\n",
    "    LIST.append(sum(List))\n",
    "for k in range(len(LIST)):\n",
    "    print(LIST[k])"
   ]
  },
  {
   "cell_type": "markdown",
   "metadata": {},
   "source": [
    "## <font color=red>4344</font>"
   ]
  },
  {
   "cell_type": "code",
   "execution_count": null,
   "metadata": {},
   "outputs": [],
   "source": [
    "C=int(input())\n",
    "for i in range(C):\n",
    "    List=list(map(int, input().split()))\n",
    "    N=List[0]\n",
    "    List=List[1:]\n",
    "    mean=sum(List)/N\n",
    "    score=0\n",
    "    for i in range(N):\n",
    "        if List[i]>mean:\n",
    "            score+=1\n",
    "    print(\"%0.3f\" %(score/N*100) +\"%\" )"
   ]
  }
 ],
 "metadata": {
  "kernelspec": {
   "display_name": "Python 3",
   "language": "python",
   "name": "python3"
  },
  "language_info": {
   "codemirror_mode": {
    "name": "ipython",
    "version": 3
   },
   "file_extension": ".py",
   "mimetype": "text/x-python",
   "name": "python",
   "nbconvert_exporter": "python",
   "pygments_lexer": "ipython3",
   "version": "3.7.7"
  }
 },
 "nbformat": 4,
 "nbformat_minor": 4
}
