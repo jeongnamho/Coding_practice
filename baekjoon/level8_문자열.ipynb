{
 "cells": [
  {
   "cell_type": "markdown",
   "metadata": {},
   "source": [
    "## <font color=red>11654</font>"
   ]
  },
  {
   "cell_type": "code",
   "execution_count": 7,
   "metadata": {
    "ExecuteTime": {
     "end_time": "2020-05-02T12:44:57.448105Z",
     "start_time": "2020-05-02T12:44:56.756956Z"
    }
   },
   "outputs": [
    {
     "name": "stdout",
     "output_type": "stream",
     "text": [
      "9\n",
      "57\n"
     ]
    }
   ],
   "source": [
    "print(ord(input()))"
   ]
  },
  {
   "cell_type": "markdown",
   "metadata": {
    "ExecuteTime": {
     "end_time": "2020-05-02T12:48:13.413126Z",
     "start_time": "2020-05-02T12:48:13.409138Z"
    }
   },
   "source": [
    "## <font color=red>11720</font>"
   ]
  },
  {
   "cell_type": "code",
   "execution_count": 9,
   "metadata": {
    "ExecuteTime": {
     "end_time": "2020-05-02T12:48:32.432273Z",
     "start_time": "2020-05-02T12:48:26.860174Z"
    }
   },
   "outputs": [
    {
     "name": "stdout",
     "output_type": "stream",
     "text": [
      "3\n",
      "128\n",
      "11\n"
     ]
    }
   ],
   "source": [
    "count = input()\n",
    "a = list(input())\n",
    "print(sum(map(int,a)))"
   ]
  },
  {
   "cell_type": "code",
   "execution_count": 12,
   "metadata": {
    "ExecuteTime": {
     "end_time": "2020-05-02T12:50:43.606534Z",
     "start_time": "2020-05-02T12:50:43.601549Z"
    }
   },
   "outputs": [
    {
     "data": {
      "text/plain": [
       "['A', 'B', 'C']"
      ]
     },
     "execution_count": 12,
     "metadata": {},
     "output_type": "execute_result"
    }
   ],
   "source": [
    "# 이건 아이디어\n",
    "print(list(\"ABC\"))\n",
    "for i in \"ABC\":\n",
    "    print(i)"
   ]
  },
  {
   "cell_type": "markdown",
   "metadata": {},
   "source": [
    "## <font color=red>10809</font>"
   ]
  },
  {
   "cell_type": "code",
   "execution_count": 25,
   "metadata": {
    "ExecuteTime": {
     "end_time": "2020-05-02T13:12:18.966742Z",
     "start_time": "2020-05-02T13:12:15.039246Z"
    }
   },
   "outputs": [
    {
     "name": "stdout",
     "output_type": "stream",
     "text": [
      "baekjoon\n",
      "1 0 -1 -1 2 -1 -1 -1 -1 4 3 -1 -1 7 5 -1 -1 -1 -1 -1 -1 -1 -1 -1 -1 -1\n"
     ]
    }
   ],
   "source": [
    "string = input()\n",
    "print(\" \".join(list(map(str, [string.find(chr(i)) for i in range(97,123)]))))"
   ]
  },
  {
   "cell_type": "code",
   "execution_count": 28,
   "metadata": {
    "ExecuteTime": {
     "end_time": "2020-05-02T13:17:33.079463Z",
     "start_time": "2020-05-02T13:17:29.239729Z"
    }
   },
   "outputs": [
    {
     "name": "stdout",
     "output_type": "stream",
     "text": [
      "baekjoon\n",
      "1 0 -1 -1 2 -1 -1 -1 -1 4 3 -1 -1 7 5 -1 -1 -1 -1 -1 -1 -1 -1 -1 -1 -1\n"
     ]
    }
   ],
   "source": [
    "# map앞에 *를 쓰면 map object 대신 list처럼 unpacking 해줌\n",
    "print(*map(input().find,map(chr,range(97,123))))"
   ]
  },
  {
   "cell_type": "markdown",
   "metadata": {},
   "source": [
    "## <font color=red>2675</font>"
   ]
  },
  {
   "cell_type": "code",
   "execution_count": null,
   "metadata": {
    "ExecuteTime": {
     "end_time": "2020-05-02T13:56:55.923131Z",
     "start_time": "2020-05-02T13:56:49.363618Z"
    }
   },
   "outputs": [],
   "source": [
    "n = int(input())\n",
    "for i in range(n):\n",
    "    num, string = input().split()\n",
    "    num=int(num)\n",
    "    print(\"\".join([char*num for char in string]))"
   ]
  },
  {
   "cell_type": "markdown",
   "metadata": {},
   "source": [
    "## <font color=red>1157</font>"
   ]
  },
  {
   "cell_type": "code",
   "execution_count": 7,
   "metadata": {
    "ExecuteTime": {
     "end_time": "2020-05-02T15:41:34.382864Z",
     "start_time": "2020-05-02T15:41:34.376881Z"
    }
   },
   "outputs": [
    {
     "name": "stdout",
     "output_type": "stream",
     "text": [
      "E\n"
     ]
    }
   ],
   "source": [
    "string = input().upper()\n",
    "List=[]\n",
    "for i in set(string):\n",
    "    List.append(string.count(i))\n",
    "idx = [i for i,j in enumerate(List) if j==max(List)]\n",
    "if len(idx)>1:\n",
    "    print(\"?\")\n",
    "else:\n",
    "    print(list(set(string))[List.index(max(List))])"
   ]
  },
  {
   "cell_type": "code",
   "execution_count": 8,
   "metadata": {
    "ExecuteTime": {
     "end_time": "2020-05-02T15:41:34.880533Z",
     "start_time": "2020-05-02T15:41:34.874586Z"
    }
   },
   "outputs": [
    {
     "name": "stdout",
     "output_type": "stream",
     "text": [
      "E\n"
     ]
    }
   ],
   "source": [
    "# 이거 계속 런타임 에러 뜨는데ㅠ 어떻게 하는지 물어봐야겠다 흑흑\n",
    "string = input().upper()\n",
    "characters = list(set([*string]))\n",
    "List = list(map(str,[string.count(characters[i]) for i in range(len(characters))]))\n",
    "MAX = max(List)\n",
    "if List.count(MAX) == 1:\n",
    "    print( characters[\"\".join(List).find(MAX)] )\n",
    "else:\n",
    "    print(\"?\")"
   ]
  },
  {
   "cell_type": "markdown",
   "metadata": {},
   "source": [
    "## <font color=red>1152</font>"
   ]
  },
  {
   "cell_type": "code",
   "execution_count": 11,
   "metadata": {
    "ExecuteTime": {
     "end_time": "2020-05-03T07:22:56.634589Z",
     "start_time": "2020-05-03T07:22:54.239984Z"
    }
   },
   "outputs": [
    {
     "name": "stdout",
     "output_type": "stream",
     "text": [
      "\n",
      "0\n"
     ]
    }
   ],
   "source": [
    "print(len(input().split()))"
   ]
  },
  {
   "cell_type": "markdown",
   "metadata": {},
   "source": [
    "## <font color=red>2908</font>"
   ]
  },
  {
   "cell_type": "code",
   "execution_count": 7,
   "metadata": {
    "ExecuteTime": {
     "end_time": "2020-05-03T07:57:41.421570Z",
     "start_time": "2020-05-03T07:57:40.001334Z"
    },
    "scrolled": false
   },
   "outputs": [
    {
     "name": "stdout",
     "output_type": "stream",
     "text": [
      "123 429\n",
      "924\n"
     ]
    }
   ],
   "source": [
    "a, b = map(list, input().split())\n",
    "a.reverse()\n",
    "b.reverse()\n",
    "print(max([\"\".join(a), \"\".join(b)]))"
   ]
  },
  {
   "cell_type": "markdown",
   "metadata": {},
   "source": [
    "## <font color=red>5622</font>"
   ]
  },
  {
   "cell_type": "code",
   "execution_count": 26,
   "metadata": {
    "ExecuteTime": {
     "end_time": "2020-05-03T08:30:24.943188Z",
     "start_time": "2020-05-03T08:30:23.783289Z"
    }
   },
   "outputs": [
    {
     "name": "stdout",
     "output_type": "stream",
     "text": [
      "UNUCIC\n",
      "36\n"
     ]
    }
   ],
   "source": [
    "string=list(input())\n",
    "score=0\n",
    "for i  in string:\n",
    "    if i in list(\"ABC\"):\n",
    "        score+=3\n",
    "    elif i in list(\"DEF\"):\n",
    "        score+=4\n",
    "    elif i in list(\"GHI\"):\n",
    "        score+=5\n",
    "    elif i in list(\"JKL\"):\n",
    "        score+=6\n",
    "    elif i in list(\"MNO\"):\n",
    "        score+=7\n",
    "    elif i in list(\"PQRS\"):\n",
    "        score+=8\n",
    "    elif i in list(\"TUV\"):\n",
    "        score+=9\n",
    "    elif i in list(\"WXYZ\"):\n",
    "        score+=10\n",
    "print(score)"
   ]
  },
  {
   "cell_type": "code",
   "execution_count": null,
   "metadata": {},
   "outputs": [],
   "source": []
  },
  {
   "cell_type": "code",
   "execution_count": null,
   "metadata": {},
   "outputs": [],
   "source": []
  },
  {
   "cell_type": "code",
   "execution_count": null,
   "metadata": {},
   "outputs": [],
   "source": []
  }
 ],
 "metadata": {
  "kernelspec": {
   "display_name": "Python 3",
   "language": "python",
   "name": "python3"
  },
  "language_info": {
   "codemirror_mode": {
    "name": "ipython",
    "version": 3
   },
   "file_extension": ".py",
   "mimetype": "text/x-python",
   "name": "python",
   "nbconvert_exporter": "python",
   "pygments_lexer": "ipython3",
   "version": "3.7.5"
  },
  "varInspector": {
   "cols": {
    "lenName": 16,
    "lenType": 16,
    "lenVar": 40
   },
   "kernels_config": {
    "python": {
     "delete_cmd_postfix": "",
     "delete_cmd_prefix": "del ",
     "library": "var_list.py",
     "varRefreshCmd": "print(var_dic_list())"
    },
    "r": {
     "delete_cmd_postfix": ") ",
     "delete_cmd_prefix": "rm(",
     "library": "var_list.r",
     "varRefreshCmd": "cat(var_dic_list()) "
    }
   },
   "types_to_exclude": [
    "module",
    "function",
    "builtin_function_or_method",
    "instance",
    "_Feature"
   ],
   "window_display": false
  }
 },
 "nbformat": 4,
 "nbformat_minor": 2
}
