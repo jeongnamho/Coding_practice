{
 "cells": [
  {
   "cell_type": "markdown",
   "metadata": {},
   "source": [
    "## 문제\n",
    "> 이석원은 조규현과 백승환에게 상대편 마린(류재명)의 위치를 계산하라는 명령을 내렸다. 조규현과 백승환은 각각 자신의 터렛 위치에서 현재 적까지의 거리를 계산했다.  \n",
    "조규현의 좌표 (x1, y1)와 백승환의 좌표 (x2, y2)가 주어지고, 조규현이 계산한 류재명과의 거리 r1과 백승환이 계산한 류재명과의 거리 r2가 주어졌을 때, 류재명이 있을 수 있는 좌표의 수를 출력하는 프로그램을 작성하시오."
   ]
  },
  {
   "cell_type": "markdown",
   "metadata": {},
   "source": [
    "## 입력\n",
    "첫째 줄에 테스트 케이스의 개수 T가 주어진다. 각 테스트 케이스는 다음과 같이 이루어져 있다.\n",
    "\n",
    "한 줄에 x1, y1, r1, x2, y2, r2가 주어진다. x1, y1, x2, y2는 -10,000보다 크거나 같고, 10,000보다 작거나 같은 정수이고, r1, r2는 10,000보다 작거나 같은 자연수이다."
   ]
  },
  {
   "cell_type": "markdown",
   "metadata": {},
   "source": [
    "## 출력\n",
    "각 테스트 케이스마다 류재명이 있을 수 있는 위치의 수를 출력한다. 만약 류재명이 있을 수 있는 위치의 개수가 무한대일 경우에는 -1을 출력한다."
   ]
  },
  {
   "cell_type": "code",
   "execution_count": 12,
   "metadata": {
    "ExecuteTime": {
     "end_time": "2020-04-11T13:39:44.863701Z",
     "start_time": "2020-04-11T13:39:23.283897Z"
    }
   },
   "outputs": [
    {
     "name": "stdout",
     "output_type": "stream",
     "text": [
      "the number of cases : 4\n",
      "two pairs of coordinates and radius : 0 0 13 40 0 37\n",
      "2\n",
      "two pairs of coordinates and radius : 0 0 3 0 7 4\n",
      "1\n",
      "two pairs of coordinates and radius : 1 1 1 1 1 5\n",
      "0\n",
      "two pairs of coordinates and radius : 1 1 1 1 1 1\n",
      "-1\n"
     ]
    }
   ],
   "source": [
    "test_case = int(input(\"the number of cases : \"))\n",
    "number = 0\n",
    "while number < test_case:\n",
    "    x1,y1,r1,x2,y2,r2 = map(int, input(\"two pairs of coordinates and radius : \").split())\n",
    "    if (r1+r2)**2 > (x1-x2)**2 + (y1-y2)**2 and (r1-r2)**2 < (x1-x2)**2 + (y1-y2)**2:\n",
    "        print(2)\n",
    "    elif (r1+r2)**2 == (x1-x2)**2 + (y1-y2)**2 or (r1-r2)**2 == (x1-x2)**2 + (y1-y2)**2 :\n",
    "        if x1==x2 and y1 == y2 and r1 == r2:\n",
    "            print(-1)\n",
    "        else:\n",
    "            print(1)\n",
    "    elif (r1+r2)**2 < (x1-x2)**2 + (y1-y2)**2 or (r1-r2)**2 > (x1-x2)**2 + (y1-y2)**2:\n",
    "        print(0)\n",
    "    else:\n",
    "        print(-1)\n",
    "    number += 1"
   ]
  },
  {
   "cell_type": "code",
   "execution_count": null,
   "metadata": {},
   "outputs": [],
   "source": []
  }
 ],
 "metadata": {
  "kernelspec": {
   "display_name": "Python 3",
   "language": "python",
   "name": "python3"
  },
  "language_info": {
   "codemirror_mode": {
    "name": "ipython",
    "version": 3
   },
   "file_extension": ".py",
   "mimetype": "text/x-python",
   "name": "python",
   "nbconvert_exporter": "python",
   "pygments_lexer": "ipython3",
   "version": "3.7.5"
  },
  "varInspector": {
   "cols": {
    "lenName": 16,
    "lenType": 16,
    "lenVar": 40
   },
   "kernels_config": {
    "python": {
     "delete_cmd_postfix": "",
     "delete_cmd_prefix": "del ",
     "library": "var_list.py",
     "varRefreshCmd": "print(var_dic_list())"
    },
    "r": {
     "delete_cmd_postfix": ") ",
     "delete_cmd_prefix": "rm(",
     "library": "var_list.r",
     "varRefreshCmd": "cat(var_dic_list()) "
    }
   },
   "types_to_exclude": [
    "module",
    "function",
    "builtin_function_or_method",
    "instance",
    "_Feature"
   ],
   "window_display": false
  }
 },
 "nbformat": 4,
 "nbformat_minor": 2
}
