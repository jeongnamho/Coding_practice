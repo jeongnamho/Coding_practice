{
 "cells": [
  {
   "cell_type": "code",
   "execution_count": 2,
   "metadata": {
    "ExecuteTime": {
     "end_time": "2020-04-11T14:23:29.920130Z",
     "start_time": "2020-04-11T14:22:34.332120Z"
    }
   },
   "outputs": [
    {
     "name": "stdout",
     "output_type": "stream",
     "text": [
      "the number of cases : 2\n",
      "the location of test_case-5 1 12 1\n",
      "the number of planets : 7\n",
      "1 1 8\n",
      "-3 -1 1\n",
      "2 2 2\n",
      "5 5 1\n",
      "-4 5 1\n",
      "12 1 1\n",
      "12 1 2\n",
      "-5 1 5 1\n"
     ]
    },
    {
     "ename": "ValueError",
     "evalue": "too many values to unpack (expected 3)",
     "output_type": "error",
     "traceback": [
      "\u001b[1;31m---------------------------------------------------------------------------\u001b[0m",
      "\u001b[1;31mValueError\u001b[0m                                Traceback (most recent call last)",
      "\u001b[1;32m<ipython-input-2-1c83eeade6f3>\u001b[0m in \u001b[0;36m<module>\u001b[1;34m\u001b[0m\n\u001b[0;32m      8\u001b[0m     \u001b[0menter_exit\u001b[0m \u001b[1;33m=\u001b[0m \u001b[1;36m0\u001b[0m\u001b[1;33m\u001b[0m\u001b[1;33m\u001b[0m\u001b[0m\n\u001b[0;32m      9\u001b[0m     \u001b[1;32mwhile\u001b[0m \u001b[0mnumber\u001b[0m \u001b[1;33m<\u001b[0m \u001b[0mplanets_number\u001b[0m\u001b[1;33m:\u001b[0m\u001b[1;33m\u001b[0m\u001b[1;33m\u001b[0m\u001b[0m\n\u001b[1;32m---> 10\u001b[1;33m         \u001b[0mcx\u001b[0m\u001b[1;33m,\u001b[0m\u001b[0mcy\u001b[0m\u001b[1;33m,\u001b[0m\u001b[0mr\u001b[0m \u001b[1;33m=\u001b[0m \u001b[0mmap\u001b[0m\u001b[1;33m(\u001b[0m\u001b[0mint\u001b[0m\u001b[1;33m,\u001b[0m \u001b[0minput\u001b[0m\u001b[1;33m(\u001b[0m\u001b[1;33m)\u001b[0m\u001b[1;33m.\u001b[0m\u001b[0msplit\u001b[0m\u001b[1;33m(\u001b[0m\u001b[1;33m)\u001b[0m\u001b[1;33m)\u001b[0m\u001b[1;33m\u001b[0m\u001b[1;33m\u001b[0m\u001b[0m\n\u001b[0m\u001b[0;32m     11\u001b[0m         \u001b[1;32mif\u001b[0m \u001b[1;33m(\u001b[0m\u001b[0mx1\u001b[0m\u001b[1;33m-\u001b[0m\u001b[0mcx\u001b[0m\u001b[1;33m)\u001b[0m\u001b[1;33m**\u001b[0m\u001b[1;36m2\u001b[0m \u001b[1;33m+\u001b[0m \u001b[1;33m(\u001b[0m\u001b[0my1\u001b[0m\u001b[1;33m-\u001b[0m\u001b[0mcy\u001b[0m\u001b[1;33m)\u001b[0m\u001b[1;33m**\u001b[0m\u001b[1;36m2\u001b[0m \u001b[1;33m<\u001b[0m \u001b[0mr\u001b[0m\u001b[1;33m**\u001b[0m\u001b[1;36m2\u001b[0m \u001b[1;32mand\u001b[0m \u001b[1;33m(\u001b[0m\u001b[0mx2\u001b[0m\u001b[1;33m-\u001b[0m\u001b[0mcx\u001b[0m\u001b[1;33m)\u001b[0m\u001b[1;33m**\u001b[0m\u001b[1;36m2\u001b[0m \u001b[1;33m+\u001b[0m \u001b[1;33m(\u001b[0m\u001b[0my2\u001b[0m\u001b[1;33m-\u001b[0m\u001b[0mcy\u001b[0m\u001b[1;33m)\u001b[0m\u001b[1;33m**\u001b[0m\u001b[1;36m2\u001b[0m \u001b[1;33m>\u001b[0m \u001b[0mr\u001b[0m\u001b[1;33m**\u001b[0m\u001b[1;36m2\u001b[0m\u001b[1;33m:\u001b[0m\u001b[1;33m\u001b[0m\u001b[1;33m\u001b[0m\u001b[0m\n\u001b[0;32m     12\u001b[0m             \u001b[0menter_exit\u001b[0m \u001b[1;33m+=\u001b[0m \u001b[1;36m1\u001b[0m\u001b[1;33m\u001b[0m\u001b[1;33m\u001b[0m\u001b[0m\n",
      "\u001b[1;31mValueError\u001b[0m: too many values to unpack (expected 3)"
     ]
    }
   ],
   "source": [
    "test_case = int(input(\"the number of cases : \"))\n",
    "case = 0\n",
    "while case < test_case:\n",
    "    x1,y1,x2,y2 = map(int, input(\"the location of test_case : \").split())\n",
    "\n",
    "    planets_number = int(input(\"the number of planets : \"))\n",
    "    number = 0\n",
    "    enter_exit = 0\n",
    "    while number < planets_number:\n",
    "        cx,cy,r = map(int, input().split())\n",
    "        if (x1-cx)**2 + (y1-cy)**2 < r**2 and (x2-cx)**2 + (y2-cy)**2 > r**2:\n",
    "            enter_exit += 1\n",
    "        elif (x1-cx)**2 + (y1-cy)**2 > r**2 and (x2-cx)**2 + (y2-cy)**2 < r**2:\n",
    "            enter_exit += 1\n",
    "        else:\n",
    "            continue\n",
    "        number += 1\n",
    "    print(enter_exit)\n",
    "    case += 1\n",
    "\n",
    "\n",
    "\n",
    "\n",
    "# number = 0\n",
    "# while number < test_case:\n",
    "#     x1,y1,r1,x2,y2,r2 = map(int, input(\"two pairs of coordinates and radius : \").split())\n",
    "#     if (r1+r2)**2 > (x1-x2)**2 + (y1-y2)**2 and (r1-r2)**2 < (x1-x2)**2 + (y1-y2)**2:\n",
    "#         print(2)\n",
    "#     elif (r1+r2)**2 == (x1-x2)**2 + (y1-y2)**2 or (r1-r2)**2 == (x1-x2)**2 + (y1-y2)**2 :\n",
    "#         if x1==x2 and y1 == y2 and r1 == r2:\n",
    "#             print(-1)\n",
    "#         else:\n",
    "#             print(1)\n",
    "#     elif (r1+r2)**2 < (x1-x2)**2 + (y1-y2)**2 or (r1-r2)**2 > (x1-x2)**2 + (y1-y2)**2:\n",
    "#         print(0)\n",
    "#     else:\n",
    "#         print(-1)\n",
    "#     number += 1"
   ]
  },
  {
   "cell_type": "code",
   "execution_count": null,
   "metadata": {},
   "outputs": [],
   "source": []
  }
 ],
 "metadata": {
  "kernelspec": {
   "display_name": "Python 3",
   "language": "python",
   "name": "python3"
  },
  "language_info": {
   "codemirror_mode": {
    "name": "ipython",
    "version": 3
   },
   "file_extension": ".py",
   "mimetype": "text/x-python",
   "name": "python",
   "nbconvert_exporter": "python",
   "pygments_lexer": "ipython3",
   "version": "3.7.5"
  },
  "varInspector": {
   "cols": {
    "lenName": 16,
    "lenType": 16,
    "lenVar": 40
   },
   "kernels_config": {
    "python": {
     "delete_cmd_postfix": "",
     "delete_cmd_prefix": "del ",
     "library": "var_list.py",
     "varRefreshCmd": "print(var_dic_list())"
    },
    "r": {
     "delete_cmd_postfix": ") ",
     "delete_cmd_prefix": "rm(",
     "library": "var_list.r",
     "varRefreshCmd": "cat(var_dic_list()) "
    }
   },
   "types_to_exclude": [
    "module",
    "function",
    "builtin_function_or_method",
    "instance",
    "_Feature"
   ],
   "window_display": false
  }
 },
 "nbformat": 4,
 "nbformat_minor": 2
}
