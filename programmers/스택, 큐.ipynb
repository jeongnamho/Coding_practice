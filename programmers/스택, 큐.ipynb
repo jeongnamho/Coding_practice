{
 "cells": [
  {
   "cell_type": "markdown",
   "metadata": {},
   "source": [
    "#### Level2 기능개발"
   ]
  },
  {
   "cell_type": "code",
   "execution_count": 43,
   "metadata": {
    "ExecuteTime": {
     "end_time": "2021-06-22T12:11:34.408016Z",
     "start_time": "2021-06-22T12:11:34.398042Z"
    }
   },
   "outputs": [],
   "source": [
    "def solution(progresses, speeds):\n",
    "    mass = zip(progresses, speeds)\n",
    "    remain_days = []\n",
    "    for function, speed in mass :\n",
    "        remain_days.append((100-function)//speed + 1)\n",
    "    \n",
    "    cnt = 1\n",
    "    Max = remain_days[0]\n",
    "    answer=[]\n",
    "    \n",
    "    for i in range(len(remain_days)-1) :\n",
    "        if Max >= remain_days[i+1]:\n",
    "            cnt += 1\n",
    "        else:\n",
    "            Max = remain_days[i+1]\n",
    "            if i != len(remain_days)-2 :\n",
    "                answer.append(cnt)\n",
    "                cnt=1\n",
    "            \n",
    "            else:\n",
    "                answer.append(1)\n",
    "    return answer"
   ]
  },
  {
   "cell_type": "code",
   "execution_count": 44,
   "metadata": {
    "ExecuteTime": {
     "end_time": "2021-06-22T12:11:34.652795Z",
     "start_time": "2021-06-22T12:11:34.648805Z"
    }
   },
   "outputs": [],
   "source": [
    "progresses = [93, 30, 55]\n",
    "speeds = [1, 30, 5]"
   ]
  },
  {
   "cell_type": "code",
   "execution_count": 45,
   "metadata": {
    "ExecuteTime": {
     "end_time": "2021-06-22T12:11:34.880672Z",
     "start_time": "2021-06-22T12:11:34.874683Z"
    }
   },
   "outputs": [
    {
     "data": {
      "text/plain": [
       "[1]"
      ]
     },
     "execution_count": 45,
     "metadata": {},
     "output_type": "execute_result"
    }
   ],
   "source": [
    "solution(progresses, speeds)"
   ]
  },
  {
   "cell_type": "code",
   "execution_count": 46,
   "metadata": {
    "ExecuteTime": {
     "end_time": "2021-06-22T12:11:35.449257Z",
     "start_time": "2021-06-22T12:11:35.442241Z"
    }
   },
   "outputs": [],
   "source": [
    "progresses = [95, 90, 99, 99, 80, 99]\n",
    "speeds = [1, 1, 1, 1, 1, 1]"
   ]
  },
  {
   "cell_type": "code",
   "execution_count": 47,
   "metadata": {
    "ExecuteTime": {
     "end_time": "2021-06-22T12:11:35.941687Z",
     "start_time": "2021-06-22T12:11:35.925484Z"
    }
   },
   "outputs": [
    {
     "data": {
      "text/plain": [
       "[1, 3]"
      ]
     },
     "execution_count": 47,
     "metadata": {},
     "output_type": "execute_result"
    }
   ],
   "source": [
    "solution(progresses, speeds)"
   ]
  }
 ],
 "metadata": {
  "kernelspec": {
   "display_name": "Python 3",
   "language": "python",
   "name": "python3"
  },
  "language_info": {
   "codemirror_mode": {
    "name": "ipython",
    "version": 3
   },
   "file_extension": ".py",
   "mimetype": "text/x-python",
   "name": "python",
   "nbconvert_exporter": "python",
   "pygments_lexer": "ipython3",
   "version": "3.6.10"
  },
  "varInspector": {
   "cols": {
    "lenName": 16,
    "lenType": 16,
    "lenVar": 40
   },
   "kernels_config": {
    "python": {
     "delete_cmd_postfix": "",
     "delete_cmd_prefix": "del ",
     "library": "var_list.py",
     "varRefreshCmd": "print(var_dic_list())"
    },
    "r": {
     "delete_cmd_postfix": ") ",
     "delete_cmd_prefix": "rm(",
     "library": "var_list.r",
     "varRefreshCmd": "cat(var_dic_list()) "
    }
   },
   "types_to_exclude": [
    "module",
    "function",
    "builtin_function_or_method",
    "instance",
    "_Feature"
   ],
   "window_display": false
  }
 },
 "nbformat": 4,
 "nbformat_minor": 4
}
